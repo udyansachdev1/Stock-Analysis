{
 "cells": [
  {
   "cell_type": "code",
   "execution_count": null,
   "metadata": {
    "application/vnd.databricks.v1+cell": {
     "cellMetadata": {},
     "inputWidgets": {},
     "nuid": "0f4ea2cd-c688-4c10-8776-04de3e2ec831",
     "showTitle": false,
     "title": ""
    }
   },
   "outputs": [],
   "source": [
    "# importing required libraries\n",
    "import pandas as pd"
   ]
  },
  {
   "cell_type": "code",
   "execution_count": null,
   "metadata": {
    "application/vnd.databricks.v1+cell": {
     "cellMetadata": {},
     "inputWidgets": {},
     "nuid": "5f3611f9-6178-44cc-8607-bb678687932f",
     "showTitle": false,
     "title": ""
    }
   },
   "outputs": [],
   "source": [
    "# Load List of Tickrs\n",
    "tickers = pd.read_csv(\"../data/Tickers.csv\")"
   ]
  },
  {
   "cell_type": "code",
   "execution_count": null,
   "metadata": {
    "application/vnd.databricks.v1+cell": {
     "cellMetadata": {},
     "inputWidgets": {},
     "nuid": "eb6efbd4-b939-4029-b807-c5ee8c9a737b",
     "showTitle": false,
     "title": ""
    }
   },
   "outputs": [],
   "source": [
    "# list to save intermediate data\n",
    "df_list = []"
   ]
  },
  {
   "cell_type": "code",
   "execution_count": null,
   "metadata": {
    "application/vnd.databricks.v1+cell": {
     "cellMetadata": {},
     "inputWidgets": {},
     "nuid": "d25dd12a-0d9b-43b1-8f28-f9866ff95c72",
     "showTitle": false,
     "title": ""
    }
   },
   "outputs": [],
   "source": [
    "for i in tickers[\"Ticker\"]:\n",
    "    try:\n",
    "        query = (\n",
    "            \"https://www.alphavantage.co/query?function=TIME_SERIES_DAILY&symbol=\"\n",
    "            + i\n",
    "            + \"&apikey=B434MFNHO276GM45&datatype=csv\"\n",
    "        )\n",
    "\n",
    "        # Load the data from the API\n",
    "        df = pd.read_csv(query)\n",
    "\n",
    "        # Adding column for ticker\n",
    "        df[\"Ticker\"] = i\n",
    "\n",
    "        # Adding the data to the list\n",
    "        df_list.append(df)\n",
    "    except:\n",
    "        print(f\"Error occoured for {i}\")\n",
    "        break\n",
    "print(\"Data Loaded\")"
   ]
  },
  {
   "cell_type": "code",
   "execution_count": null,
   "metadata": {
    "application/vnd.databricks.v1+cell": {
     "cellMetadata": {},
     "inputWidgets": {},
     "nuid": "8c784388-8b1e-4f42-9b71-d1e1092a9a6f",
     "showTitle": false,
     "title": ""
    }
   },
   "outputs": [],
   "source": [
    "df = pd.concat(df_list)"
   ]
  },
  {
   "cell_type": "code",
   "execution_count": null,
   "metadata": {
    "application/vnd.databricks.v1+cell": {
     "cellMetadata": {},
     "inputWidgets": {},
     "nuid": "5f9f80c5-0d20-4997-8f11-bdbc0e36faf1",
     "showTitle": false,
     "title": ""
    }
   },
   "outputs": [],
   "source": [
    "# reaaraning columns\n",
    "df = df[\n",
    "    [\n",
    "        \"Ticker\",\n",
    "        \"timestamp\",\n",
    "        \"open\",\n",
    "        \"high\",\n",
    "        \"low\",\n",
    "        \"close\",\n",
    "        \"volume\",\n",
    "    ]\n",
    "]"
   ]
  },
  {
   "cell_type": "code",
   "execution_count": null,
   "metadata": {
    "application/vnd.databricks.v1+cell": {
     "cellMetadata": {},
     "inputWidgets": {},
     "nuid": "6ecc508e-f7f1-45d9-abf5-e4099f213b7a",
     "showTitle": false,
     "title": ""
    }
   },
   "outputs": [],
   "source": [
    "# converting timestamp to datetime\n",
    "df[\"timestamp\"] = pd.to_datetime(df[\"timestamp\"])"
   ]
  },
  {
   "cell_type": "code",
   "execution_count": null,
   "metadata": {
    "application/vnd.databricks.v1+cell": {
     "cellMetadata": {},
     "inputWidgets": {},
     "nuid": "873a0419-2056-449b-a484-73159a3bbf7c",
     "showTitle": false,
     "title": ""
    }
   },
   "outputs": [],
   "source": [
    "# sort by ticker and timestamp\n",
    "df.sort_values(by=[\"Ticker\", \"timestamp\"], inplace=True)"
   ]
  },
  {
   "cell_type": "code",
   "execution_count": null,
   "metadata": {
    "application/vnd.databricks.v1+cell": {
     "cellMetadata": {},
     "inputWidgets": {},
     "nuid": "e88d236e-5cc8-48e8-8da4-e4372cd7c54e",
     "showTitle": false,
     "title": ""
    }
   },
   "outputs": [],
   "source": [
    "# checking Date range\n",
    "df[\"timestamp\"].min(), df[\"timestamp\"].max()"
   ]
  },
  {
   "cell_type": "code",
   "execution_count": null,
   "metadata": {},
   "outputs": [],
   "source": [
    "# ruff : noqa"
   ]
  }
 ],
 "metadata": {
  "application/vnd.databricks.v1+notebook": {
   "dashboards": [],
   "language": "python",
   "notebookMetadata": {
    "pythonIndentUnit": 4
   },
   "notebookName": "load_daily",
   "widgets": {}
  },
  "kernelspec": {
   "display_name": "Python 3",
   "language": "python",
   "name": "python3"
  },
  "language_info": {
   "codemirror_mode": {
    "name": "ipython",
    "version": 3
   },
   "file_extension": ".py",
   "mimetype": "text/x-python",
   "name": "python",
   "nbconvert_exporter": "python",
   "pygments_lexer": "ipython3",
   "version": "3.10.12"
  }
 },
 "nbformat": 4,
 "nbformat_minor": 0
}
